{
  "metadata": {
    "kernelspec": {
      "name": "python",
      "display_name": "Python (Pyodide)",
      "language": "python"
    },
    "language_info": {
      "codemirror_mode": {
        "name": "python",
        "version": 3
      },
      "file_extension": ".py",
      "mimetype": "text/x-python",
      "name": "python",
      "nbconvert_exporter": "python",
      "pygments_lexer": "ipython3",
      "version": "3.8"
    }
  },
  "nbformat_minor": 5,
  "nbformat": 4,
  "cells": [
    {
      "id": "0d5035b5",
      "cell_type": "markdown",
      "source": "# Listas\n\n## Aulas 6.1 a 6.5 ",
      "metadata": {}
    },
    {
      "id": "0bdece85",
      "cell_type": "markdown",
      "source": "### Q1. \n\nUsando a função embutida ```map``` e criando uma função ```lambda```, transforme uma lista com os raios de múltiplas circunferências em uma nova lista com as respectivas áreas. O cálculo de cada área é dado por: ```pi*(raio**2)```\n- Use a constante pi da biblioteca math \n- Arredonde o resultado para 2 casas decimais\n",
      "metadata": {}
    },
    {
      "id": "0a258eba",
      "cell_type": "code",
      "source": "import math\n\nraios = [1.5, 0.8, 2.3, 5.0]\n\nareas = list(map(lambda r: round(math.pi * (r**2), 2), raios))\n\nprint(f\"Lista de raios: {raios}\")\nprint(f\"Lista de áreas correspondentes: {areas}\")",
      "metadata": {
        "trusted": true
      },
      "outputs": [
        {
          "name": "stdout",
          "output_type": "stream",
          "text": "Lista de raios: [1.5, 0.8, 2.3, 5.0]\nLista de áreas correspondentes: [7.07, 2.01, 16.62, 78.54]\n"
        }
      ],
      "execution_count": 1
    },
    {
      "id": "649a5082",
      "cell_type": "markdown",
      "source": "### Q2. \n\nCrie uma função customizada e aplique a função embutida ```filter``` para operar em uma lista de listas contendo os lados de múltiplos triângulos. Construa uma nova lista contendo apenas os triângulos equiláteros, ou seja, com os três lados iguais.\n",
      "metadata": {}
    },
    {
      "id": "47cb0573",
      "cell_type": "code",
      "source": "## Crie a função customizada\ndef testa_equilatero(lados):\n    return lados[0] == lados[1] and lados[1] == lados[2]\n\n### Usando filter, aplique a função customizada aos seguintes triangulos\ntriangulos  = [[2,2,2], [3,4,5], [3,2,2],[4,4,4]]\n\ntriangulos_equilateros = list(filter(testa_equilatero, triangulos))\n\nprint(triangulos_equilateros)",
      "metadata": {
        "trusted": true
      },
      "outputs": [
        {
          "name": "stdout",
          "output_type": "stream",
          "text": "[[2, 2, 2], [4, 4, 4]]\n"
        }
      ],
      "execution_count": 3
    },
    {
      "id": "bb62d219",
      "cell_type": "markdown",
      "source": "### Q3. \nCrie uma função chamada ```ordena_por_comprimento``` que aceite uma lista de strings e a ordene com base no comprimento das strings, do menor para o maior. Utilize a função ```sorte``` e uma expressão ```lambda```.",
      "metadata": {}
    },
    {
      "id": "add41556",
      "cell_type": "code",
      "source": "### crie a função ordena_por_comprimento e retorne a lista resultado\ndef ordena_por_comprimento(lista_de_strings):\n    return sorted(lista_de_strings, key=lambda item: len(item))\n\n### aplique sua função à seguinte lista e imprima o resultado\nnomes = [\"Joao\", \"Maria\", \"Jose\", \"Gabriela\", \"Sol\", \"Luna\", \"Bento\", \"Enzo\", \"Fernanda\"]\n\nnomes_ordenados = ordena_por_comprimento(nomes)\n\nprint(nomes_ordenados)",
      "metadata": {
        "trusted": true
      },
      "outputs": [
        {
          "name": "stdout",
          "output_type": "stream",
          "text": "['Sol', 'Joao', 'Jose', 'Luna', 'Enzo', 'Maria', 'Bento', 'Gabriela', 'Fernanda']\n"
        }
      ],
      "execution_count": 4
    },
    {
      "id": "8710b1a7",
      "cell_type": "markdown",
      "source": "### Q4.\n\nCrie uma lista de listas (uma matriz de 2 dimensões) de tamanho $n \\times n$, com $n$ dado pelo usuário. Cada elemento da matriz deve ser o produto dos índices da linha pela coluna.\n\nExemplo:\n```\nDigite n: 4\nMatriz:\n[[0, 0, 0, 0],\n [0, 1, 2, 3],\n [0, 2, 4, 6],\n [0, 3, 6, 9]]\n```",
      "metadata": {}
    },
    {
      "id": "0b7ee921",
      "cell_type": "code",
      "source": "n = int(input(\"Digite um número inteiro para definir a dimensão (n x n) da matriz: \"))\n\nmatriz = [[linha * coluna for coluna in range(n)] for linha in range(n)]\n\nprint(\"\\nMatriz:\")\nfor linha in matriz:\n    print(linha)",
      "metadata": {
        "trusted": true
      },
      "outputs": [
        {
          "output_type": "stream",
          "name": "stdin",
          "text": "Digite um número inteiro para definir a dimensão (n x n) da matriz:  4\n"
        },
        {
          "name": "stdout",
          "output_type": "stream",
          "text": "\nMatriz:\n[0, 0, 0, 0]\n[0, 1, 2, 3]\n[0, 2, 4, 6]\n[0, 3, 6, 9]\n"
        }
      ],
      "execution_count": 7
    },
    {
      "id": "f41781df",
      "cell_type": "markdown",
      "source": "### Q5.\n\nDada uma lista de números inteiros, implemente uma função em Python chamada ```pares_unicos``` que encontre e retorne todos os pares únicos de elementos na lista cuja soma seja igual a um determinado valor. Considere que a ordem dos pares não é relevante.",
      "metadata": {}
    },
    {
      "id": "7a76f765",
      "cell_type": "code",
      "source": "def pares_unicos(numeros, soma_objetivo):\n    vistos = set()\n    pares = set()\n\n    for num in numeros:\n        complemento = soma_objetivo - num\n        if complemento in vistos:\n            par_ordenado = tuple(sorted((num, complemento)))\n            pares.add(par_ordenado)\n        vistos.add(num)\n        \n    return list(pares)\n\n# Exemplo de uso:\nnums = [3, 4, 5, 6, 7]\nsoma = 10\nresultado = pares_unicos(nums, soma)\nprint(resultado)  # Saída esperada: [(3, 7), (4, 6)]",
      "metadata": {
        "trusted": true
      },
      "outputs": [
        {
          "name": "stdout",
          "output_type": "stream",
          "text": "[(3, 7), (4, 6)]\n"
        }
      ],
      "execution_count": 10
    },
    {
      "id": "87e44893",
      "cell_type": "markdown",
      "source": "### Q6.\n\nEscreva um programa para encontrar a diferença entre duas listas, incluindo elementos duplicados.\n\nEx:\n```\nListas originais: \n[1, 1, 2, 3, 3, 4, 4, 5, 6, 7]\n[1, 1, 2, 4, 5, 6]\nDiferença entre as listas:\n[3, 3, 4, 7]\n```",
      "metadata": {}
    },
    {
      "id": "7edc027c",
      "cell_type": "code",
      "source": "def encontrar_diferenca(lista_principal, lista_subtrair):\n    resultado_temp = lista_principal.copy()\n    for item in lista_subtrair:\n        if item in resultado_temp:\n            resultado_temp.remove(item)\n    return resultado_temp\n\nlista1 = [1, 1, 2, 3, 3, 4, 4, 5, 6, 7]\nlista2 = [1, 1, 2, 4, 5, 6]\n\ndiferenca = encontrar_diferenca(lista1, lista2)\n\nprint(\"Listas originais:\")\nprint(lista1)\nprint(lista2)\nprint(\"Diferença entre as listas:\")\nprint(diferenca)",
      "metadata": {
        "trusted": true
      },
      "outputs": [
        {
          "name": "stdout",
          "output_type": "stream",
          "text": "Listas originais:\n[1, 1, 2, 3, 3, 4, 4, 5, 6, 7]\n[1, 1, 2, 4, 5, 6]\nDiferença entre as listas:\n[3, 3, 4, 7]\n"
        }
      ],
      "execution_count": 11
    },
    {
      "id": "f4c4236d",
      "cell_type": "markdown",
      "source": "### Q7.\n\nDada uma lista aleatória, escreva um programa que separa os valores em listas menores de acordo com o tamanho solicitado. Caso não seja possível repartir igualmente a lista original, a última sublista deve conter os elementos remanescentes, como indicado no exemplo a seguir.\n\nNote que seu programa deve continuar executando em um laço infinito até que o usuário informe o tamanho 0 na entrada solicitada.\n\n```\nLista original:\n[12, 45, 23, 67, 78, 90, 45, 32, 100, 76, 38, 62, 73, 29, 83]\n\nTamanho para divisão: 3\nSubslistas:\n[[12, 45, 23], [67, 78, 90], [45, 32, 100], [76, 38, 62], [73, 29, 83]]\n\nTamanho para divisão: 4\nSubslistas: [[12, 45, 23, 67], [78, 90, 45, 32], [100, 76, 38, 62], [73, 29, 83]]\n\nTamanho para divisão: 0\n```",
      "metadata": {}
    },
    {
      "id": "792563de",
      "cell_type": "code",
      "source": "import random\n\nlista = [random.randint(1, 100) for i in range(20)]\n\nprint(\"Lista original:\")\nprint(lista)\n\nwhile True:\n    try:\n        tamanho_divisao = int(input(\"\\nTamanho para divisão (digite 0 para sair): \"))\n\n        if tamanho_divisao == 0:\n            break\n\n        if tamanho_divisao > 0:\n            sublistas = [lista[i:i + tamanho_divisao] for i in range(0, len(lista), tamanho_divisao)]\n            print(\"Sublistas:\")\n            print(sublistas)\n        else:\n            print(\"O tamanho para divisão deve ser um número positivo.\")\n\n    except ValueError:\n        print(\"Entrada inválida. Por favor, digite um número inteiro.\")",
      "metadata": {
        "trusted": true
      },
      "outputs": [
        {
          "name": "stdout",
          "output_type": "stream",
          "text": "Lista original:\n[21, 52, 82, 51, 64, 77, 38, 65, 5, 46, 37, 34, 17, 96, 41, 1, 38, 57, 8, 77]\n"
        },
        {
          "output_type": "stream",
          "name": "stdin",
          "text": "\nTamanho para divisão (digite 0 para sair):  5\n"
        },
        {
          "name": "stdout",
          "output_type": "stream",
          "text": "Sublistas:\n[[21, 52, 82, 51, 64], [77, 38, 65, 5, 46], [37, 34, 17, 96, 41], [1, 38, 57, 8, 77]]\n"
        },
        {
          "output_type": "stream",
          "name": "stdin",
          "text": "\nTamanho para divisão (digite 0 para sair):  15\n"
        },
        {
          "name": "stdout",
          "output_type": "stream",
          "text": "Sublistas:\n[[21, 52, 82, 51, 64, 77, 38, 65, 5, 46, 37, 34, 17, 96, 41], [1, 38, 57, 8, 77]]\n"
        },
        {
          "output_type": "stream",
          "name": "stdin",
          "text": "\nTamanho para divisão (digite 0 para sair):  0\n"
        }
      ],
      "execution_count": 13
    },
    {
      "id": "c65be32f",
      "cell_type": "markdown",
      "source": "### Q8.\n\nVocê está desenvolvendo um programa para determinar o vencedor de um jogo da velha. Escreva uma função ```avalia_tabuleiro()``` que recebe uma lista representando o estado atual do tabuleiro e determina se há um vencedor. \n\nA lista terá 3 sublistas, cada uma representando uma linha do tabuleiro. Cada elemento das sublistas pode ser 'X', 'O' ou vazio (' ').\n\nO programa deve imprimir o vencedor ('X', 'O'), se houver um, ou \"Empate\" se não houver vencedor. Um vencedor é determinado se houver três 'X' ou três 'O' em linha (horizontal, vertical ou diagonal).\n\nExemplo:\n```python\ntabuleiro = [\n    ['X', 'O', 'X'],\n    [' ', 'X', 'O'],\n    ['O', ' ', 'O']\n]\n```\nO resultado seria \"Empate\", pois não há um vencedor no exemplo fornecido. \n\nExemplo 2:\n```python\ntabuleiro = [\n    ['O', 'X', 'O'],\n    ['X', 'O', 'X'],\n    ['X', ' ', 'O']\n]\n```\nO resultado seria \"O\", pois 'O' venceu na diagonal central.",
      "metadata": {}
    },
    {
      "id": "720ca24d",
      "cell_type": "code",
      "source": "### Escreva a função avalia_tabuleiro()\ndef avalia_tabuleiro(tabuleiro):\n    for i in range(3):\n        if tabuleiro[i][0] == tabuleiro[i][1] == tabuleiro[i][2] and tabuleiro[i][0] != ' ':\n            return tabuleiro[i][0]\n        if tabuleiro[0][i] == tabuleiro[1][i] == tabuleiro[2][i] and tabuleiro[0][i] != ' ':\n            return tabuleiro[0][i]\n\n    if tabuleiro[0][0] == tabuleiro[1][1] == tabuleiro[2][2] and tabuleiro[0][0] != ' ':\n        return tabuleiro[0][0]\n    \n    if tabuleiro[0][2] == tabuleiro[1][1] == tabuleiro[2][0] and tabuleiro[0][2] != ' ':\n        return tabuleiro[0][2]\n\n    return \"Empate\"\n\n### teste a função nos seguintes tabuleiros\n\ntabuleiro1 = [\n    ['X', 'O', 'X'],\n    [' ', 'X', 'O'],\n    ['O', ' ', 'X']\n]\n\ntabuleiro2 = [\n    ['X', 'O', 'O'],\n    ['X', 'X', 'O'],\n    ['X', 'O', 'X']\n]\n\ntabuleiro3 = [\n    [' ', ' ', ' '],\n    ['X', ' ', 'O'],\n    ['O', 'X', 'X']\n]\n\ntabuleiro4 = [\n    ['O', 'O', 'O'],\n    ['X', ' ', 'X'],\n    ['O', 'X', 'X']\n]\n\ntabuleiro5 = [\n    ['X', 'X', 'O'],\n    ['X', ' ', 'O'],\n    ['O', 'O', 'X']\n]\n\nprint(f\"Resultado Tabuleiro 1: {avalia_tabuleiro(tabuleiro1)}\")\nprint(f\"Resultado Tabuleiro 2: {avalia_tabuleiro(tabuleiro2)}\")\nprint(f\"Resultado Tabuleiro 3: {avalia_tabuleiro(tabuleiro3)}\")\nprint(f\"Resultado Tabuleiro 4: {avalia_tabuleiro(tabuleiro4)}\")\nprint(f\"Resultado Tabuleiro 5: {avalia_tabuleiro(tabuleiro5)}\")",
      "metadata": {
        "trusted": true
      },
      "outputs": [
        {
          "name": "stdout",
          "output_type": "stream",
          "text": "Resultado Tabuleiro 1: X\nResultado Tabuleiro 2: X\nResultado Tabuleiro 3: Empate\nResultado Tabuleiro 4: O\nResultado Tabuleiro 5: Empate\n"
        }
      ],
      "execution_count": 14
    },
    {
      "id": "c1cb5e19-b7ea-415b-bc2a-fc3115d875dd",
      "cell_type": "code",
      "source": "",
      "metadata": {
        "trusted": true
      },
      "outputs": [],
      "execution_count": null
    }
  ]
}