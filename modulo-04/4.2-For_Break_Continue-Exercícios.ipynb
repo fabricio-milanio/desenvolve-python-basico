{
  "metadata": {
    "kernelspec": {
      "name": "python",
      "display_name": "Python (Pyodide)",
      "language": "python"
    },
    "language_info": {
      "codemirror_mode": {
        "name": "python",
        "version": 3
      },
      "file_extension": ".py",
      "mimetype": "text/x-python",
      "name": "python",
      "nbconvert_exporter": "python",
      "pygments_lexer": "ipython3",
      "version": "3.8"
    }
  },
  "nbformat_minor": 5,
  "nbformat": 4,
  "cells": [
    {
      "id": "29e89030",
      "cell_type": "markdown",
      "source": "# Módulo 4 - Repetições\n\n## Aulas 4.2 - Comando ```for``` e 4.3 Break e Continue",
      "metadata": {}
    },
    {
      "id": "a45b42df",
      "cell_type": "markdown",
      "source": "### Q1.\n\nCrie um programa em Python que utilize o comando for para imprimir os números de 10 a 1, em ordem decrescente.",
      "metadata": {}
    },
    {
      "id": "55a75b3d",
      "cell_type": "code",
      "source": "for numero in range(10, 0, -1):\n    print(numero)",
      "metadata": {
        "trusted": true
      },
      "outputs": [
        {
          "name": "stdout",
          "output_type": "stream",
          "text": "10\n9\n8\n7\n6\n5\n4\n3\n2\n1\n"
        }
      ],
      "execution_count": 1
    },
    {
      "id": "94b47c36",
      "cell_type": "markdown",
      "source": "### Q2.\n\nDado um número inteiro positivo informado pelo usuário, crie um programa em Python que utilize o comando for para calcular e exibir a soma dos números de 1 até o número informado. Ou seja, $1 + 2 + 3 + ... + n$\n\nExemplo de interação:\n```\nDigite um número: 5\nA soma dos números de 1 a 5 é 15\n```\n",
      "metadata": {}
    },
    {
      "id": "45b71596",
      "cell_type": "code",
      "source": "numero_final = int(input(\"Digite um número inteiro e positivo: \"))\n\nsoma_total = 0\n\nfor numero in range(1, numero_final + 1):\n    soma_total += numero\n\nprint(f\"A soma dos números de 1 a {numero_final} é {soma_total}\")",
      "metadata": {
        "trusted": true
      },
      "outputs": [
        {
          "output_type": "stream",
          "name": "stdin",
          "text": "Digite um número inteiro e positivo:  -5\n"
        },
        {
          "name": "stdout",
          "output_type": "stream",
          "text": "A soma dos números de 1 a -5 é 0\n"
        }
      ],
      "execution_count": 3
    },
    {
      "id": "0411d170",
      "cell_type": "markdown",
      "source": "### Q3.\n\nEscreva um programa que lê 10 valores inteiros positivos do usuário e ao final imprime a média dos valores digitados com duas casas decimais.\n\n```\nDigite 10 números positivos:\n3\n2\n12\n14\n20\n42\n19\n0\n8\n1\nA média dos valores digitados é 12.10\n```",
      "metadata": {}
    },
    {
      "id": "3f72f358",
      "cell_type": "code",
      "source": "soma_valores = 0\n\nprint(\"Digite 10 números positivos:\")\n\nfor _ in range(10):\n    valor = int(input())\n    soma_valores += valor\n\nmedia = soma_valores / 10\n\nprint(f\"A média dos valores digitados é {media:.2f}\")",
      "metadata": {
        "trusted": true
      },
      "outputs": [
        {
          "name": "stdout",
          "output_type": "stream",
          "text": "Digite 10 números positivos:\n"
        },
        {
          "output_type": "stream",
          "name": "stdin",
          "text": " 10\n 9\n 8\n 7\n 6\n 5\n 4\n 3\n 2\n 1\n"
        },
        {
          "name": "stdout",
          "output_type": "stream",
          "text": "A média dos valores digitados é 5.50\n"
        }
      ],
      "execution_count": 5
    },
    {
      "id": "d62e27ff",
      "cell_type": "markdown",
      "source": "### Q4.\n\nVocê vai criar um sistema que registra os resultados dos jogos do Atlético MG ao longo de um campeonato. Seu sistema vai receber os resultados de todos os jogos do Galo, e deve calcular a pontuação do time sabendo que vitórias valem 3 pontos, empates 1 ponto e derrotas 0 pontos.\n\nEntrada: <br>\nA primeira linha de entrada é um inteiro N com a quantidade jogos do galo. Para cada jogo você deve ler 2 inteiros, o primeiro com a quantidade de gols do galo e o segundo com a quantidade de gols do time oponente. \n\nSaída: <br>\nApresente a soma de vitórias, empates e derrotas do galo, junto com o cálculo da pontuação total.\n\nEx:\n```\nEntrada:\n4\n2\n0\n1\n1\n0\n3\n1\n0\n\nSaída:\nVitórias: 2\nEmpates: 1\nDerrotas: 1\nPontuação: 7\n\n```\n\n\n",
      "metadata": {}
    },
    {
      "id": "d3fdfc2a",
      "cell_type": "code",
      "source": "numero_de_jogos = int(input(\"Digite a quantidade total de jogos: \"))\n\nvitorias = 0\nempates = 0\nderrotas = 0\n\nfor i in range(numero_de_jogos):\n    print(f\"\\nJogo {i + 1}\")\n    gols_galo = int(input(\"Gols do Atlético: \"))\n    gols_oponente = int(input(\"Gols do Oponente: \"))\n\n    if gols_galo > gols_oponente:\n        vitorias += 1\n    elif gols_galo == gols_oponente:\n        empates += 1\n    else:\n        derrotas += 1\n\npontuacao_total = (vitorias * 3) + (empates * 1)\n\nprint(\"\\nRelatório Final de Pontuação\")\nprint(f\"Vitórias: {vitorias}\")\nprint(f\"Empates: {empates}\")\nprint(f\"Derrotas: {derrotas}\")\nprint(f\"Pontuação: {pontuacao_total}\")",
      "metadata": {
        "trusted": true
      },
      "outputs": [
        {
          "output_type": "stream",
          "name": "stdin",
          "text": "Digite a quantidade total de jogos:  2\n"
        },
        {
          "name": "stdout",
          "output_type": "stream",
          "text": "\nJogo 1\n\n"
        },
        {
          "output_type": "stream",
          "name": "stdin",
          "text": "Gols do Atlético:  2\nGols do Oponente:  2\n"
        },
        {
          "name": "stdout",
          "output_type": "stream",
          "text": "\nJogo 2\n\n"
        },
        {
          "output_type": "stream",
          "name": "stdin",
          "text": "Gols do Atlético:  3\nGols do Oponente:  1\n"
        },
        {
          "name": "stdout",
          "output_type": "stream",
          "text": "\nRelatório Final de Pontuação\n\nVitórias: 1\nEmpates: 1\nDerrotas: 0\nPontuação: 4\n"
        }
      ],
      "execution_count": 5
    },
    {
      "id": "fc98604d",
      "cell_type": "markdown",
      "source": "### Q5.\n\nFaça um programa que lê dois inteiros N e M, e imprime na tela um campo de batalha naval. O tabuleiro deve possuir N linhas e M colunas. A primeira linha é composta por um espaço em branco e o cabeçalho das colunas, ou seja, valores de 1 a M. As N linhas seguintes iniciam com o cabeçalho da linha, ou seja, seu número, seguido de M caracteres \"/\" (barra) indicando uma possível posição jogável. \n\n```\nEntrada:\n5\n4\n\nSaída:\n  1 2 3 4 \n1 / / / / \n2 / / / / \n3 / / / / \n4 / / / / \n5 / / / / \n```\n\nPara esse exercício, precisamos lembrar que o comando print implicitamente adiciona uma quebra de linha ao final da impressão. Podemos interferir no final da impressão adicionando mais uma entrada ao print. No exemplo, finalizamos cada linha com um espaço em branco:\n```python\nprint(\"Texto qualquer\", end = \" \")\n```",
      "metadata": {}
    },
    {
      "id": "a60ef197",
      "cell_type": "code",
      "source": "n = int(input(\"Digite o número de linhas (N): \"))\nm = int(input(\"Digite o número de colunas (M): \"))\n\nprint(\"  \", end=\"\")\nfor coluna in range(1, m + 1):\n    print(coluna, end=\" \")\nprint()\n\nfor linha in range(1, n + 1):\n    print(linha, end=\" \")\n\n    for coluna in range(m):\n        print(\"/\", end=\" \")\n\n    print()",
      "metadata": {
        "trusted": true
      },
      "outputs": [
        {
          "output_type": "stream",
          "name": "stdin",
          "text": "Digite o número de linhas (N):  5\nDigite o número de colunas (M):  5\n"
        },
        {
          "name": "stdout",
          "output_type": "stream",
          "text": "  1 2 3 4 5 \n1 / / / / / \n2 / / / / / \n3 / / / / / \n4 / / / / / \n5 / / / / / \n"
        }
      ],
      "execution_count": 6
    },
    {
      "id": "4654dc0b",
      "cell_type": "markdown",
      "source": "---\n## Break e Continue",
      "metadata": {}
    },
    {
      "id": "24fe9d85",
      "cell_type": "markdown",
      "source": "### Q6.\n\nEscreva um programa que lê uma quantidade indefinida de valores e informa o maior e o menor valor digitados. A leitura é encerrada quando o usuário digitar o valor 0 (zero).\n\n```\nEntrada:\n12\n-1\n29\n11\n-5\n0\n\nSaída:\nMaior: 29\nMenor: -5\n```",
      "metadata": {}
    },
    {
      "id": "ee1c466a",
      "cell_type": "code",
      "source": "num = int(input(\"Digite um valor (0 para sair): \"))\n\nif num != 0:\n    maior = num\n    menor = num\n\n    while True:\n        num = int(input(\"Digite um valor (0 para sair): \"))\n\n        if num == 0:\n            break\n\n        if num > maior:\n            maior = num\n        \n        if num < menor:\n            menor = num\n            \n    print(f\"Maior: {maior}\")\n    print(f\"Menor: {menor}\")",
      "metadata": {
        "trusted": true
      },
      "outputs": [
        {
          "output_type": "stream",
          "name": "stdin",
          "text": "Digite um valor (0 para sair):  1\nDigite um valor (0 para sair):  2\nDigite um valor (0 para sair):  10\nDigite um valor (0 para sair):  0\n"
        },
        {
          "name": "stdout",
          "output_type": "stream",
          "text": "Maior: 10\nMenor: 1\n"
        }
      ],
      "execution_count": 7
    },
    {
      "id": "30d486f7",
      "cell_type": "markdown",
      "source": "### Q7.\n\nEscreva um programa que lê uma quantidade indefinida de valores e informa o **produto** dos valores positivos digitados. A leitura é encerrada quando o usuário digitar o valor 0 (zero).\n\n```\nEntrada:\n2\n-1\n1\n3\n-5\n0\n\nSaída:\nProduto: 6\n```",
      "metadata": {}
    },
    {
      "id": "2f1ac324",
      "cell_type": "code",
      "source": "produto_total = 1\n\nwhile True:\n    valor = int(input())\n    \n    if valor == 0:\n        break\n        \n    if valor > 0:\n        produto_total *= valor\n\nprint(f\"Produto: {produto_total}\")",
      "metadata": {
        "trusted": true
      },
      "outputs": [
        {
          "output_type": "stream",
          "name": "stdin",
          "text": " 2\n -1\n 1\n 3\n -5\n 0\n"
        },
        {
          "name": "stdout",
          "output_type": "stream",
          "text": "Produto: 6\n"
        }
      ],
      "execution_count": 8
    },
    {
      "id": "e932f3cf",
      "cell_type": "markdown",
      "source": "### Q8.\n\nVamos fazer uma calculadora que aceita expressões aritméticas de qualquer tamanho até que o usuário digite a palavra \"Fim\". Sua calculadora executa apenas as operações \"+\", \"-\".\n\n```\nEntrada:\n5\n+\n8\n-\n3\n+\n2\nFim\n\nSaída:\n12\n```",
      "metadata": {}
    },
    {
      "id": "e835d870",
      "cell_type": "code",
      "source": "resultado = int(input(\"Digite o número inicial: \"))\n\nwhile True:\n    operador = input(\"Digite um operador (+, -) ou 'Fim' para encerrar: \")\n\n    if operador.lower() == 'fim':\n        break\n\n    numero = int(input(\"Digite o próximo número: \"))\n\n    if operador == '+':\n        resultado += numero\n    elif operador == '-':\n        resultado -= numero\n    else:\n        print(f\"Aviso: Operador '{operador}' não reconhecido. Tente novamente.\")\n\nprint(f\"Resultado final: {resultado}\")",
      "metadata": {
        "trusted": true
      },
      "outputs": [
        {
          "output_type": "stream",
          "name": "stdin",
          "text": "Digite o número inicial:  10\nDigite um operador (+, -) ou 'Fim' para encerrar:  +\nDigite o próximo número:  5\nDigite um operador (+, -) ou 'Fim' para encerrar:  -\nDigite o próximo número:  3\nDigite um operador (+, -) ou 'Fim' para encerrar:  fim\n"
        },
        {
          "name": "stdout",
          "output_type": "stream",
          "text": "Resultado final: 12\n"
        }
      ],
      "execution_count": 11
    },
    {
      "id": "3e26dc24-aea0-4c66-80f5-27987897ecd4",
      "cell_type": "code",
      "source": "",
      "metadata": {
        "trusted": true
      },
      "outputs": [],
      "execution_count": null
    }
  ]
}