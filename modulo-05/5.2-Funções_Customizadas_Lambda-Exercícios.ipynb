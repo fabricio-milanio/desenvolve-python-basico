{
  "metadata": {
    "kernelspec": {
      "name": "python",
      "display_name": "Python (Pyodide)",
      "language": "python"
    },
    "language_info": {
      "codemirror_mode": {
        "name": "python",
        "version": 3
      },
      "file_extension": ".py",
      "mimetype": "text/x-python",
      "name": "python",
      "nbconvert_exporter": "python",
      "pygments_lexer": "ipython3",
      "version": "3.8"
    }
  },
  "nbformat_minor": 5,
  "nbformat": 4,
  "cells": [
    {
      "id": "cbdff5a5",
      "cell_type": "markdown",
      "source": "# Módulo 5 - Funções\n\n## Aulas 5.2 - Funções Customizadas e 5.4 Funções ```lambda```",
      "metadata": {}
    },
    {
      "id": "28a3fee2",
      "cell_type": "markdown",
      "source": "### Q1.\n\n- Sabendo que o código a seguir calcula o fatorial de n, escreva uma função chamada ```fatorial()``` que recebe um inteiro ```n``` como parâmetro e retorna o resultado do fatorial de ```n```. \n- No programa principal, peça ao usuário o valor de ```n```, chame a sua função e imprima o retorno.\n\n```python\nfat = 1\nfor i in range(1, n+1):\n    fat *= i \n```",
      "metadata": {}
    },
    {
      "id": "d126b3a5",
      "cell_type": "code",
      "source": "def fatorial(n):\n    if n < 0:\n        return \"não pode ser calculado para números negativos.\"\n    elif n == 0:\n        return 1\n    \n    fat = 1\n    for i in range(1, n + 1):\n        fat *= i\n    return fat",
      "metadata": {
        "trusted": true
      },
      "outputs": [],
      "execution_count": 3
    },
    {
      "id": "6e4fe64e",
      "cell_type": "code",
      "source": "numero = int(input(\"Digite um valor para n: \"))\nresultado = fatorial(numero)\nprint(f\"O fatorial de {numero} é {resultado}\")",
      "metadata": {
        "trusted": true
      },
      "outputs": [
        {
          "output_type": "stream",
          "name": "stdin",
          "text": "Digite um valor para n:  3\n"
        },
        {
          "name": "stdout",
          "output_type": "stream",
          "text": "O fatorial de 3 é 6\n"
        }
      ],
      "execution_count": 5
    },
    {
      "id": "c0a1f599",
      "cell_type": "markdown",
      "source": "### Q2.\n\n- Escreva uma função em Python chamada ```soma_quadrados``` que recebe dois números como parâmetros e retorna a soma dos seus quadrados. \n- No programa principal solicite ao usuário que insira dois números e utilize a função para exibir a soma dos quadrados.",
      "metadata": {}
    },
    {
      "id": "6dbddaad",
      "cell_type": "code",
      "source": "def soma_quadrados(num1, num2):\n  return (num1 ** 2) + (num2 ** 2)",
      "metadata": {
        "trusted": true
      },
      "outputs": [],
      "execution_count": 11
    },
    {
      "id": "88f55687-c367-43a1-9515-ef43c1e9736b",
      "cell_type": "code",
      "source": "numero1 = float(input(\"Digite o primeiro número: \"))\nnumero2 = float(input(\"Digite o segundo número: \"))\n\nresultado = soma_quadrados(numero1, numero2)\n\nprint(f\"\\nA soma dos quadrados de {numero1} e {numero2} é: {resultado}\")",
      "metadata": {
        "trusted": true
      },
      "outputs": [
        {
          "output_type": "stream",
          "name": "stdin",
          "text": "Digite o primeiro número:  2\nDigite o segundo número:  3\n"
        },
        {
          "name": "stdout",
          "output_type": "stream",
          "text": "\nA soma dos quadrados de 2.0 e 3.0 é: 13.0\n"
        }
      ],
      "execution_count": 12
    },
    {
      "id": "6ba34ce0",
      "cell_type": "markdown",
      "source": "### Q3.\n\n- Crie uma função em Python chamada ```soma_digitos``` que recebe um número inteiro como parâmetro e retorna a soma dos seus dígitos. Por exemplo, para o número 123, a função deve retornar 6, $(1 + 2 + 3)$.\n    - O desafio aqui é separar os dígitos de um número inteiro usando operações aritméticas <br> <br>\n\n- No programa principal solicite ao usuário que insira um número e utilize a função ```soma_digitos``` para calcular e exibir a soma dos seus dígitos.",
      "metadata": {}
    },
    {
      "id": "34838ebf",
      "cell_type": "code",
      "source": "def soma_digitos(numero):\n  soma = 0\n  numero_absoluto = abs(numero)\n\n  if numero_absoluto == 0:\n    return 0\n  \n  while numero_absoluto > 0:\n    digito = numero_absoluto % 10\n    soma += digito\n    numero_absoluto //= 10\n    \n  return soma",
      "metadata": {
        "trusted": true
      },
      "outputs": [],
      "execution_count": 13
    },
    {
      "id": "27c35b21",
      "cell_type": "code",
      "source": "numero_usuario = int(input(\"Digite um número inteiro: \"))\n\nresultado = soma_digitos(numero_usuario)\n\nprint(f\"A soma dos dígitos de {numero_usuario} é {resultado}.\")",
      "metadata": {
        "trusted": true
      },
      "outputs": [
        {
          "output_type": "stream",
          "name": "stdin",
          "text": "Digite um número inteiro:  123\n"
        },
        {
          "name": "stdout",
          "output_type": "stream",
          "text": "A soma dos dígitos de 123 é 6.\n"
        }
      ],
      "execution_count": 15
    },
    {
      "id": "c318b159",
      "cell_type": "markdown",
      "source": "### Q4.\n\n- Crie a função ```inverteValor()``` que recebe um inteiro de qualquer tamanho e retorna esse valor invertido usando apenas operações aritméticas\n- Crie a função ```verificaInverso()``` que recebe o valor original e o valor invertido e retorna verdadeiro se ambos forem igualmente par ou igualmente ímpar. Retorne falso caso contrário.\n- No programa principal, peça um valor do usuário e imprima o retorno de ambas as funções.\n",
      "metadata": {}
    },
    {
      "id": "e4e47d1d",
      "cell_type": "code",
      "source": "def inverteValor(numero):\n  sinal = 1\n  if numero < 0:\n    sinal = -1\n    numero = abs(numero)\n\n  invertido = 0\n  while numero > 0:\n    digito = numero % 10\n    invertido = (invertido * 10) + digito\n    numero //= 10\n  \n  return invertido * sinal\n\ndef verificaInverso(original, invertido):\n  paridade_original = original % 2\n  paridade_invertido = invertido % 2\n  return paridade_original == paridade_invertido",
      "metadata": {
        "trusted": true
      },
      "outputs": [],
      "execution_count": 16
    },
    {
      "id": "a9514e56",
      "cell_type": "code",
      "source": "numero_original = int(input(\"Digite um número inteiro: \"))\n\nvalor_invertido = inverteValor(numero_original)\nprint(f\"O valor invertido é: {valor_invertido}\")\n\nmesma_paridade = verificaInverso(numero_original, valor_invertido)\nprint(f\"O original e o invertido possuem a mesma paridade? {mesma_paridade}\")",
      "metadata": {
        "trusted": true
      },
      "outputs": [
        {
          "output_type": "stream",
          "name": "stdin",
          "text": "Digite um número inteiro:  10\n"
        },
        {
          "name": "stdout",
          "output_type": "stream",
          "text": "O valor invertido é: 1\nO original e o invertido possuem a mesma paridade? False\n"
        }
      ],
      "execution_count": 21
    },
    {
      "id": "329be966",
      "cell_type": "markdown",
      "source": "### Q5.\n\nVocê está desenvolvendo um programa para auxiliar em cálculos de geometria básica. Crie as seguintes funções:\n- A função ```calcula_perimetro_triangulo()``` que recebe três inteiros correspondentes aos lados de um triângulo e retorna o perímetro do triângulo, ou seja, a soma dos seus lados.\n- A função ```calcula_perimetro_circulo()``` que recebe um inteiro referente ao raio do círculo e retorna o perímetro do círculo, dado por $2 \\pi r$. Use a constante $\\pi$ da biblioteca ```math```.\n- A função ```calcula_perimetro_retangulo()``` que possui um parâmetro obrigatório ```lado1``` e um opcional ```lado2```, ambos inteiros. Se o valor opcional não for fornecido, significa que se trata de um quadrado. Sua função deve calcular e retornar o perímetro do retângulo, ou seja, a soma de seus lados. \n    - Para o quadrado, é dado por $4 \\times lado1$\n    - Para o retângulo é dado por $2 \\times lado1 + 2 \\times lado2$\n    \n- No programa principal apresente um menu com as opções disponíveis do seu sistema e uma quarta opção ```Sair```. Solicite ao usuário a opção desejada, solicite as entradas correspondentes à opção escolhida, invoque a respective função e apresente o seu retorno. Seu programa deve retornar ao menu até que o usuário escolha a opção ```Sair```\n\nExemplo de interação:\n```\n1 - Calcular perímetro triângulo\n2 - Calcular perímetro círculo\n3 - Calcular perímetro retângulo\n4 - Sair\n\nOpção: 1\nDigite os três lados do triângulo:\n3\n4\n5\nO perímetro é: 12\n\n1 - Calcular perímetro triângulo\n2 - Calcular perímetro círculo\n3 - Calcular perímetro retângulo\n4 - Sair\n\nOpção: 3\nInforme os dois lados do retângulo. Se for um quadrado, digite 0 para o segundo valor:\n5\n0\nO perímetro é: 20\n\n1 - Calcular perímetro triângulo\n2 - Calcular perímetro círculo\n3 - Calcular perímetro retângulo\n4 - Sair\n\nOpção: 4\n```",
      "metadata": {}
    },
    {
      "id": "0793d328",
      "cell_type": "code",
      "source": "import math\n\ndef calcula_perimetro_triangulo(lado1, lado2, lado3):\n  return lado1 + lado2 + lado3\n\ndef calcula_perimetro_circulo(raio):\n  return 2 * math.pi * raio\n\ndef calcula_perimetro_retangulo(lado1, lado2):\n  if lado2 == 0:\n    return 4 * lado1\n  else:\n    return 2 * (lado1 + lado2)",
      "metadata": {
        "trusted": true
      },
      "outputs": [],
      "execution_count": 25
    },
    {
      "id": "36269c71",
      "cell_type": "code",
      "source": "while True:\n  print(\"1 - Calcular perímetro triângulo\")\n  print(\"2 - Calcular perímetro círculo\")\n  print(\"3 - Calcular perímetro retângulo\")\n  print(\"4 - Sair\")\n  \n  opcao = input(\"\\nOpção: \")\n  \n  if opcao == '1':\n    l1 = int(input(\"Digite o primeiro lado: \"))\n    l2 = int(input(\"Digite o segundo lado: \"))\n    l3 = int(input(\"Digite o terceiro lado: \"))\n    resultado = calcula_perimetro_triangulo(l1, l2, l3)\n    print(f\"O perímetro é: {resultado}\\n\")\n    \n  elif opcao == '2':\n    raio = int(input(\"Digite o raio do círculo: \"))\n    resultado = calcula_perimetro_circulo(raio)\n    print(f\"O perímetro é: {resultado:.2f}\\n\")\n    \n  elif opcao == '3':\n    print(\"Informe os dois lados. Se for um quadrado, digite 0 para o segundo lado.\")\n    l1 = int(input(\"Lado 1: \"))\n    l2 = int(input(\"Lado 2: \"))\n    resultado = calcula_perimetro_retangulo(l1, l2)\n    print(f\"O perímetro é: {resultado}\\n\")\n\n  elif opcao == '4':\n    break\n    \n  else:\n    print(\"Opção inválida. Tente novamente.\\n\")",
      "metadata": {
        "trusted": true
      },
      "outputs": [
        {
          "name": "stdout",
          "output_type": "stream",
          "text": "1 - Calcular perímetro triângulo\n2 - Calcular perímetro círculo\n3 - Calcular perímetro retângulo\n4 - Sair\n"
        },
        {
          "output_type": "stream",
          "name": "stdin",
          "text": "\nOpção:  1\nDigite o primeiro lado:  10\nDigite o segundo lado:  12\nDigite o terceiro lado:  10\n"
        },
        {
          "name": "stdout",
          "output_type": "stream",
          "text": "O perímetro é: 32\n\n1 - Calcular perímetro triângulo\n2 - Calcular perímetro círculo\n3 - Calcular perímetro retângulo\n4 - Sair\n"
        },
        {
          "output_type": "stream",
          "name": "stdin",
          "text": "\nOpção:  4\n"
        }
      ],
      "execution_count": 26
    },
    {
      "id": "3016bcc7",
      "cell_type": "markdown",
      "source": "## Funções ```lambda```",
      "metadata": {}
    },
    {
      "id": "f9cdb8dd",
      "cell_type": "markdown",
      "source": "### Q6.\n\nCrie uma função lambda para verificar se um número é par ou ímpar. Em seguida, solicite ao usuário um número indefinidos de valores (até que o usuário digite 0). Para cada valor de entrada, informe se é par ou ímpar.\n\nExemplo de interação:\n```\nDigite os valores que deseja verificar a paridade (digite 0 para finalizar a entrada de dados):\n3\nímpar\n8\npar\n12\npar\n5\nímpar\n7ímpar\n```",
      "metadata": {}
    },
    {
      "id": "e3c31a78",
      "cell_type": "code",
      "source": "print(\"Digite os valores que deseja verificar a paridade (digite 0 para finalizar a entrada de dados):\")\n\nwhile True:\n    numero = int(input())\n    \n    if numero == 0:\n        break\n        \n    resultado = (lambda x: \"O número é par\" if x % 2 == 0 else \"O número é ímpar\")(numero)\n    print(resultado)",
      "metadata": {
        "trusted": true
      },
      "outputs": [
        {
          "name": "stdout",
          "output_type": "stream",
          "text": "Digite os valores que deseja verificar a paridade (digite 0 para finalizar a entrada de dados):\n"
        },
        {
          "output_type": "stream",
          "name": "stdin",
          "text": " 10\n"
        },
        {
          "name": "stdout",
          "output_type": "stream",
          "text": "O número é par\n"
        },
        {
          "output_type": "stream",
          "name": "stdin",
          "text": " 11\n"
        },
        {
          "name": "stdout",
          "output_type": "stream",
          "text": "O número é ímpar\n"
        },
        {
          "output_type": "stream",
          "name": "stdin",
          "text": " 1\n"
        },
        {
          "name": "stdout",
          "output_type": "stream",
          "text": "O número é ímpar\n"
        },
        {
          "output_type": "stream",
          "name": "stdin",
          "text": " 2\n"
        },
        {
          "name": "stdout",
          "output_type": "stream",
          "text": "O número é par\n"
        },
        {
          "output_type": "stream",
          "name": "stdin",
          "text": " 0\n"
        }
      ],
      "execution_count": 29
    },
    {
      "id": "5a87474d",
      "cell_type": "markdown",
      "source": "### Q7.\n\nEscreva um programa que pergunte ao usuário qual operação ele deseja: maior ou menor.\nEm seguida leia uma quantidade indefinida de valores do usuário, até que o usuário digite o valor zero.\nApresente ao final o maior ou menor dos valores digitados de acordo com a escolha do usuário.\n\n**Sua solução deve incluir pelo menos uma função ```lambda```** \n\nExemplo de interação:\n```\nOpções: (1) maior ou (2) menor?\nOpção: 1\n\nDigite os valores de entrada. Digite 0 para finalizar a entrada de valores.\n4\n12\n15\n1\n0\n\nO maior valor é: 15\n```",
      "metadata": {}
    },
    {
      "id": "ee3f68ca",
      "cell_type": "code",
      "source": "escolha = input(\"Opções: (1) maior ou (2) menor?\\nOpção: \")\n\nvalores = []\nprint(\"\\nDigite os valores de entrada. Digite 0 para finalizar a entrada de valores.\")\n\nwhile True:\n    numero = int(input())\n    if numero == 0:\n        break\n    valores.append(numero)\n\nif not valores:\n    print(\"\\nNenhum valor foi inserido.\")\nelif escolha == '1':\n    print(f\"\\nO maior valor é: {(lambda lista: max(lista))(valores)}\")\nelif escolha == '2':\n    print(f\"\\nO menor valor é: {(lambda lista: min(lista))(valores)}\")\nelse:\n    print(\"Opção inválida.\")",
      "metadata": {
        "trusted": true
      },
      "outputs": [
        {
          "output_type": "stream",
          "name": "stdin",
          "text": "Opções: (1) maior ou (2) menor?\nOpção:  1\n"
        },
        {
          "name": "stdout",
          "output_type": "stream",
          "text": "\nDigite os valores de entrada. Digite 0 para finalizar a entrada de valores.\n"
        },
        {
          "output_type": "stream",
          "name": "stdin",
          "text": " 1\n 2\n 5\n 10\n 0\n"
        },
        {
          "name": "stdout",
          "output_type": "stream",
          "text": "\nO maior valor é: 10\n"
        }
      ],
      "execution_count": 32
    },
    {
      "id": "0935d256-7b52-4a54-ab32-323dc105022f",
      "cell_type": "code",
      "source": "",
      "metadata": {
        "trusted": true
      },
      "outputs": [],
      "execution_count": null
    }
  ]
}